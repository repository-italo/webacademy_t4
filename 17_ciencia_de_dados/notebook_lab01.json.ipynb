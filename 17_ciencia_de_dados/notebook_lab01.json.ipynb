{
 "cells": [
  {
   "cell_type": "markdown",
   "id": "547aa9de",
   "metadata": {},
   "source": [
    "Use o Pandas e a base de dados da aula para responder as seguintes questões:\n",
    "\n",
    "Entrega: 4/12"
   ]
  },
  {
   "cell_type": "markdown",
   "id": "69ee30a4",
   "metadata": {},
   "source": [
    "# Dataset 1\n",
    "\n",
    "O mesmo da aula"
   ]
  },
  {
   "cell_type": "markdown",
   "id": "27a736ba",
   "metadata": {},
   "source": [
    "Quais gêneros tem mais jogos?"
   ]
  },
  {
   "cell_type": "code",
   "execution_count": 1,
   "id": "a17f8f0b",
   "metadata": {},
   "outputs": [
    {
     "data": {
      "text/plain": [
       "3"
      ]
     },
     "execution_count": 1,
     "metadata": {},
     "output_type": "execute_result"
    }
   ],
   "source": []
  },
  {
   "cell_type": "markdown",
   "id": "94c2373b",
   "metadata": {},
   "source": [
    "Quais anos tiveram mais lançamentos?"
   ]
  },
  {
   "cell_type": "code",
   "execution_count": null,
   "id": "d7bfef16",
   "metadata": {},
   "outputs": [],
   "source": []
  },
  {
   "cell_type": "markdown",
   "id": "0cfc1834",
   "metadata": {},
   "source": [
    "Os cinco anos com mais lançamentos, com estes lançamentos divididos por gênero"
   ]
  },
  {
   "cell_type": "code",
   "execution_count": null,
   "id": "f4fb1552",
   "metadata": {},
   "outputs": [],
   "source": []
  },
  {
   "cell_type": "markdown",
   "id": "129d6997",
   "metadata": {},
   "source": [
    "Faça um gráfico de anos por total de vendas globais."
   ]
  },
  {
   "cell_type": "code",
   "execution_count": null,
   "id": "848108e5",
   "metadata": {},
   "outputs": [],
   "source": []
  },
  {
   "cell_type": "markdown",
   "id": "9171e76b",
   "metadata": {},
   "source": [
    "Para cada ano, qual o gênero com mais lançamentos daquele ano."
   ]
  },
  {
   "cell_type": "code",
   "execution_count": null,
   "id": "b442ded7",
   "metadata": {},
   "outputs": [],
   "source": []
  },
  {
   "cell_type": "markdown",
   "id": "b88df755",
   "metadata": {},
   "source": [
    "Para cada ano, qual foi o gênero mais _vendido_ daquele ano"
   ]
  },
  {
   "cell_type": "code",
   "execution_count": null,
   "id": "9cab261e",
   "metadata": {},
   "outputs": [],
   "source": []
  },
  {
   "cell_type": "markdown",
   "id": "b9a141d6",
   "metadata": {},
   "source": [
    "Um gráfico contendo para cada plataforma, o número de vendas da mesma."
   ]
  },
  {
   "cell_type": "code",
   "execution_count": null,
   "id": "bbdc12fc",
   "metadata": {},
   "outputs": [],
   "source": []
  },
  {
   "cell_type": "markdown",
   "id": "6aee8248",
   "metadata": {},
   "source": [
    "Faça uma tabela comparando, para cada gênero, as vendas globais, na américa do norte, europa e japão."
   ]
  },
  {
   "cell_type": "code",
   "execution_count": null,
   "id": "e451db05",
   "metadata": {},
   "outputs": [],
   "source": []
  },
  {
   "cell_type": "markdown",
   "id": "f17df770",
   "metadata": {},
   "source": [
    "Faça um gráfico de vendas por publisher"
   ]
  },
  {
   "cell_type": "code",
   "execution_count": null,
   "id": "74cb4f20",
   "metadata": {},
   "outputs": [],
   "source": []
  },
  {
   "cell_type": "markdown",
   "id": "162f24fe",
   "metadata": {},
   "source": [
    "Faça uma tabela onde, para cada ano é listada a publisher com mais vendas globais naquele ano"
   ]
  },
  {
   "cell_type": "code",
   "execution_count": null,
   "id": "9b7a8144",
   "metadata": {},
   "outputs": [],
   "source": []
  },
  {
   "cell_type": "markdown",
   "id": "76965c36",
   "metadata": {},
   "source": [
    "# Dataset 2\n",
    "\n"
   ]
  },
  {
   "cell_type": "markdown",
   "id": "0e8489a2",
   "metadata": {
    "slideshow": {
     "slide_type": "subslide"
    }
   },
   "source": [
    "Qual filme teve o maior orçamento?"
   ]
  },
  {
   "cell_type": "code",
   "execution_count": null,
   "id": "c4c3680a",
   "metadata": {},
   "outputs": [],
   "source": []
  },
  {
   "cell_type": "markdown",
   "id": "5c1e98dd",
   "metadata": {},
   "source": [
    "Qual é a média dos valores de IMDb para todos os filmes?"
   ]
  },
  {
   "cell_type": "code",
   "execution_count": null,
   "id": "4138a7ea",
   "metadata": {},
   "outputs": [],
   "source": []
  },
  {
   "cell_type": "markdown",
   "id": "a8144fd0",
   "metadata": {},
   "source": [
    "Quantos filmes possuem uma pontuação de Rotten Tomatoes - Critics maior que 80%?"
   ]
  },
  {
   "cell_type": "code",
   "execution_count": null,
   "id": "bbcb98e6",
   "metadata": {},
   "outputs": [],
   "source": []
  },
  {
   "cell_type": "markdown",
   "id": "a4c99b50",
   "metadata": {},
   "source": [
    "Quais diretores (diretor principal ou secundário) dirigiram mais de um filme no dataset?"
   ]
  },
  {
   "cell_type": "code",
   "execution_count": null,
   "id": "4e2c4e55",
   "metadata": {},
   "outputs": [],
   "source": []
  },
  {
   "cell_type": "markdown",
   "id": "ce3e3015",
   "metadata": {},
   "source": [
    "Qual é a correlação entre o orçamento e o lucro bruto doméstico?"
   ]
  },
  {
   "cell_type": "code",
   "execution_count": null,
   "id": "7e1e57a6",
   "metadata": {},
   "outputs": [],
   "source": []
  },
  {
   "cell_type": "markdown",
   "id": "092e944c",
   "metadata": {},
   "source": [
    "Quais filmes obtiveram um CinemaScore \"A+\"?"
   ]
  },
  {
   "cell_type": "code",
   "execution_count": null,
   "id": "2b8e6c74",
   "metadata": {},
   "outputs": [],
   "source": []
  },
  {
   "cell_type": "markdown",
   "id": "84495da1",
   "metadata": {},
   "source": [
    "Qual foi o filme com a maior pontuação no Letterboxd?"
   ]
  },
  {
   "cell_type": "code",
   "execution_count": null,
   "id": "71089d63",
   "metadata": {},
   "outputs": [],
   "source": []
  },
  {
   "cell_type": "markdown",
   "id": "5a54bf5d",
   "metadata": {},
   "source": [
    "Quantos filmes têm um lucro bruto mundial superior a 500 milhões de dólares?"
   ]
  },
  {
   "cell_type": "code",
   "execution_count": null,
   "id": "f9fcf5c7",
   "metadata": {},
   "outputs": [],
   "source": []
  },
  {
   "cell_type": "markdown",
   "id": "124ffe48",
   "metadata": {},
   "source": [
    "Qual foi o filme mais bem avaliado em Rotten Tomatoes - Critics e Rotten Tomatoes - Audience juntos?"
   ]
  },
  {
   "cell_type": "code",
   "execution_count": null,
   "id": "20e2acd8",
   "metadata": {},
   "outputs": [],
   "source": []
  },
  {
   "cell_type": "markdown",
   "id": "95a8ff7c",
   "metadata": {},
   "source": [
    "Qual é a distribuição dos orçamentos dos filmes (mínimo, máximo, quartis)?"
   ]
  },
  {
   "cell_type": "code",
   "execution_count": null,
   "id": "c0ecdb6a",
   "metadata": {},
   "outputs": [],
   "source": []
  },
  {
   "cell_type": "markdown",
   "id": "f775ae93",
   "metadata": {},
   "source": [
    "Quais são os 5 filmes mais antigos no dataset?"
   ]
  },
  {
   "cell_type": "code",
   "execution_count": null,
   "id": "9b32ecbd",
   "metadata": {},
   "outputs": [],
   "source": []
  },
  {
   "cell_type": "markdown",
   "id": "90820643",
   "metadata": {},
   "source": [
    "Qual é a relação entre o IMDb Metascore e o Rotten Tomatoes - Critics?"
   ]
  },
  {
   "cell_type": "code",
   "execution_count": null,
   "id": "70f42301",
   "metadata": {},
   "outputs": [],
   "source": []
  },
  {
   "cell_type": "markdown",
   "id": "0088d619",
   "metadata": {},
   "source": [
    "Quais filmes tiveram mais sucesso mundial (Worldwide Gross) em relação ao seu orçamento?"
   ]
  },
  {
   "cell_type": "code",
   "execution_count": null,
   "id": "6a4f4819",
   "metadata": {},
   "outputs": [],
   "source": []
  },
  {
   "cell_type": "markdown",
   "id": "dceaff30",
   "metadata": {},
   "source": [
    "Qual foi a média de Rotten Tomatoes - Audience para os filmes lançados antes de 2010?"
   ]
  },
  {
   "cell_type": "code",
   "execution_count": null,
   "id": "71490429",
   "metadata": {},
   "outputs": [],
   "source": []
  },
  {
   "cell_type": "markdown",
   "id": "99666032",
   "metadata": {},
   "source": [
    "Quantos filmes no dataset possuem dois diretores listados?"
   ]
  },
  {
   "cell_type": "code",
   "execution_count": null,
   "id": "f125e786",
   "metadata": {},
   "outputs": [],
   "source": []
  }
 ],
 "metadata": {
  "kernelspec": {
   "display_name": "Python 3 (ipykernel)",
   "language": "python",
   "name": "python3"
  },
  "language_info": {
   "codemirror_mode": {
    "name": "ipython",
    "version": 3
   },
   "file_extension": ".py",
   "mimetype": "text/x-python",
   "name": "python",
   "nbconvert_exporter": "python",
   "pygments_lexer": "ipython3",
   "version": "3.10.12"
  }
 },
 "nbformat": 4,
 "nbformat_minor": 5
}
